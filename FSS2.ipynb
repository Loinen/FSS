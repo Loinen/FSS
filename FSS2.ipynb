{
 "cells": [
  {
   "cell_type": "code",
   "execution_count": 1,
   "metadata": {},
   "outputs": [
    {
     "ename": "ModuleNotFoundError",
     "evalue": "No module named 'NiaPy.algorithms'",
     "output_type": "error",
     "traceback": [
      "\u001b[1;31m---------------------------------------------------------------------------\u001b[0m",
      "\u001b[1;31mModuleNotFoundError\u001b[0m                       Traceback (most recent call last)",
      "\u001b[1;32m<ipython-input-1-0991b91e9775>\u001b[0m in \u001b[0;36m<module>\u001b[1;34m\u001b[0m\n\u001b[0;32m      3\u001b[0m \u001b[1;32mimport\u001b[0m \u001b[0mtime\u001b[0m\u001b[1;33m\u001b[0m\u001b[1;33m\u001b[0m\u001b[0m\n\u001b[0;32m      4\u001b[0m \u001b[1;33m\u001b[0m\u001b[0m\n\u001b[1;32m----> 5\u001b[1;33m \u001b[1;32mfrom\u001b[0m \u001b[0mNiaPy\u001b[0m\u001b[1;33m.\u001b[0m\u001b[0malgorithms\u001b[0m \u001b[1;32mimport\u001b[0m \u001b[0mBasicStatistics\u001b[0m\u001b[1;33m\u001b[0m\u001b[1;33m\u001b[0m\u001b[0m\n\u001b[0m\u001b[0;32m      6\u001b[0m \u001b[1;32mfrom\u001b[0m \u001b[0mNiaPy\u001b[0m\u001b[1;33m.\u001b[0m\u001b[0malgorithms\u001b[0m\u001b[1;33m.\u001b[0m\u001b[0mbasic\u001b[0m \u001b[1;32mimport\u001b[0m \u001b[0mFishSchoolSearch\u001b[0m\u001b[1;33m\u001b[0m\u001b[1;33m\u001b[0m\u001b[0m\n\u001b[0;32m      7\u001b[0m \u001b[1;32mfrom\u001b[0m \u001b[0mNiaPy\u001b[0m\u001b[1;33m.\u001b[0m\u001b[0malgorithms\u001b[0m\u001b[1;33m.\u001b[0m\u001b[0mbasic\u001b[0m \u001b[1;32mimport\u001b[0m \u001b[0mParticleSwarmAlgorithm\u001b[0m\u001b[1;33m\u001b[0m\u001b[1;33m\u001b[0m\u001b[0m\n",
      "\u001b[1;31mModuleNotFoundError\u001b[0m: No module named 'NiaPy.algorithms'"
     ]
    }
   ],
   "source": [
    "import numpy as np\n",
    "import matplotlib.pyplot as plt\n",
    "import time\n",
    "\n",
    "from NiaPy.algorithms import BasicStatistics\n",
    "from NiaPy.algorithms.basic import FishSchoolSearch\n",
    "from NiaPy.algorithms.basic import ParticleSwarmAlgorithm\n",
    "from NiaPy.task import StoppingTask, OptimizationType\n",
    "from NiaPy.benchmarks import Benchmark\n",
    "from scipy.optimize import OptimizeResult\n",
    "from scipy.optimize import rosen, minimize\n",
    "from scipy.interpolate import Rbf"
   ]
  },
  {
   "cell_type": "code",
   "execution_count": 3,
   "metadata": {},
   "outputs": [
    {
     "ename": "NameError",
     "evalue": "name 'rosen' is not defined",
     "output_type": "error",
     "traceback": [
      "\u001b[1;31m---------------------------------------------------------------------------\u001b[0m",
      "\u001b[1;31mNameError\u001b[0m                                 Traceback (most recent call last)",
      "\u001b[1;32m<ipython-input-3-e776e06ca8a3>\u001b[0m in \u001b[0;36m<module>\u001b[1;34m\u001b[0m\n\u001b[0;32m      7\u001b[0m \u001b[0mx\u001b[0m\u001b[1;33m,\u001b[0m \u001b[0my\u001b[0m \u001b[1;33m=\u001b[0m \u001b[0mnp\u001b[0m\u001b[1;33m.\u001b[0m\u001b[0mmeshgrid\u001b[0m\u001b[1;33m(\u001b[0m\u001b[0mx\u001b[0m\u001b[1;33m,\u001b[0m \u001b[0mx\u001b[0m\u001b[1;33m)\u001b[0m\u001b[1;33m\u001b[0m\u001b[1;33m\u001b[0m\u001b[0m\n\u001b[0;32m      8\u001b[0m \u001b[0mnoise\u001b[0m \u001b[1;33m=\u001b[0m \u001b[0mnp\u001b[0m\u001b[1;33m.\u001b[0m\u001b[0mrandom\u001b[0m\u001b[1;33m.\u001b[0m\u001b[0muniform\u001b[0m\u001b[1;33m(\u001b[0m\u001b[0msize\u001b[0m\u001b[1;33m=\u001b[0m\u001b[1;33m(\u001b[0m\u001b[0mnp\u001b[0m\u001b[1;33m.\u001b[0m\u001b[0mshape\u001b[0m\u001b[1;33m(\u001b[0m\u001b[0mx\u001b[0m\u001b[1;33m)\u001b[0m\u001b[1;33m)\u001b[0m\u001b[1;33m)\u001b[0m\u001b[1;33m\u001b[0m\u001b[1;33m\u001b[0m\u001b[0m\n\u001b[1;32m----> 9\u001b[1;33m \u001b[0mu\u001b[0m \u001b[1;33m=\u001b[0m \u001b[0mrosen\u001b[0m\u001b[1;33m(\u001b[0m\u001b[1;33m(\u001b[0m\u001b[0mx\u001b[0m\u001b[1;33m,\u001b[0m \u001b[0my\u001b[0m\u001b[1;33m)\u001b[0m\u001b[1;33m)\u001b[0m \u001b[1;33m+\u001b[0m \u001b[0mnoise\u001b[0m\u001b[1;33m\u001b[0m\u001b[1;33m\u001b[0m\u001b[0m\n\u001b[0m\u001b[0;32m     10\u001b[0m \u001b[0mrbf\u001b[0m \u001b[1;33m=\u001b[0m \u001b[0mRbf\u001b[0m\u001b[1;33m(\u001b[0m\u001b[0mx\u001b[0m\u001b[1;33m,\u001b[0m \u001b[0my\u001b[0m\u001b[1;33m,\u001b[0m \u001b[0mu\u001b[0m\u001b[1;33m)\u001b[0m\u001b[1;33m\u001b[0m\u001b[1;33m\u001b[0m\u001b[0m\n\u001b[0;32m     11\u001b[0m \u001b[1;33m\u001b[0m\u001b[0m\n",
      "\u001b[1;31mNameError\u001b[0m: name 'rosen' is not defined"
     ]
    }
   ],
   "source": [
    "    nruns = 30\n",
    "    dim = 2\n",
    "    iter = 1000\n",
    "    fes = 1000\n",
    "    \n",
    "    x = np.linspace(-2, 2, 20)\n",
    "    x, y = np.meshgrid(x, x)\n",
    "    noise = np.random.uniform(size=(np.shape(x)))\n",
    "    u = rosen((x, y)) + noise\n",
    "    rbf = Rbf(x, y, u)\n",
    "    \n",
    "    class noisy_rosenbrock(Benchmark):\n",
    "        def __init__(self):\n",
    "            Benchmark.__init__(self, -2.0, 2.0)\n",
    "\n",
    "        def function(self):\n",
    "            def evaluate(D, sol):\n",
    "                return rbf(*sol)\n",
    "            return evaluate\n",
    "\n",
    "    benc = noisy_rosenbrock()\n",
    "    benc.plot3d()"
   ]
  },
  {
   "cell_type": "code",
   "execution_count": 4,
   "metadata": {},
   "outputs": [],
   "source": [
    "def sgd(\n",
    "    fun,\n",
    "    x0,\n",
    "    jac,\n",
    "    args=(),\n",
    "    learning_rate=0.0024,\n",
    "    mass=0.9,\n",
    "    startiter=0,\n",
    "    maxiter=1000,\n",
    "    callback=None,\n",
    "    **kwargs\n",
    "):\n",
    "    x = x0\n",
    "    velocity = np.zeros_like(x)\n",
    "    fev = list()\n",
    "    x_list = list()\n",
    "\n",
    "    for i in range(startiter, startiter + maxiter):\n",
    "\n",
    "        if callback and callback(x):\n",
    "            break\n",
    "\n",
    "        if jac == None:\n",
    "            g = np.gradient((fun(benc)(len(x), x), fun(benc)(len(x), x+0.01)), 0.01)\n",
    "        else:\n",
    "            g = jac(x)\n",
    "\n",
    "        velocity = mass * velocity - (1.0 - mass) * g\n",
    "        x1 = x + learning_rate * velocity\n",
    "        fev.append(i)\n",
    "        x_list.append(fun(benc)(len(x1), x1))\n",
    "    i += 1\n",
    "    return OptimizeResult(x=x1, fun=fun(benc)(len(x), x), jac=g, nit=i, nfev=fev, xlist=x_list, success=True)"
   ]
  },
  {
   "cell_type": "markdown",
   "metadata": {},
   "source": [
    "Для тестирования работы алгоритмов на  зашумленной функция Розенброка было проведено 30 запусков для каждого алгоритма, установлено ограничение по количеству итераций и количеству вызовов функции - 1000 "
   ]
  },
  {
   "cell_type": "code",
   "execution_count": 5,
   "metadata": {},
   "outputs": [
    {
     "name": "stdout",
     "output_type": "stream",
     "text": [
      "Fish School Search\n"
     ]
    },
    {
     "ename": "NameError",
     "evalue": "name 'StoppingTask' is not defined",
     "output_type": "error",
     "traceback": [
      "\u001b[1;31m---------------------------------------------------------------------------\u001b[0m",
      "\u001b[1;31mNameError\u001b[0m                                 Traceback (most recent call last)",
      "\u001b[1;32m<ipython-input-5-4fb349e40c42>\u001b[0m in \u001b[0;36m<module>\u001b[1;34m\u001b[0m\n\u001b[0;32m      5\u001b[0m \u001b[0mprint\u001b[0m\u001b[1;33m(\u001b[0m\u001b[1;34m\"Fish School Search\"\u001b[0m\u001b[1;33m)\u001b[0m\u001b[1;33m\u001b[0m\u001b[1;33m\u001b[0m\u001b[0m\n\u001b[0;32m      6\u001b[0m \u001b[1;32mfor\u001b[0m \u001b[0mi\u001b[0m \u001b[1;32min\u001b[0m \u001b[0mrange\u001b[0m\u001b[1;33m(\u001b[0m\u001b[0mnruns\u001b[0m\u001b[1;33m)\u001b[0m\u001b[1;33m:\u001b[0m\u001b[1;33m\u001b[0m\u001b[1;33m\u001b[0m\u001b[0m\n\u001b[1;32m----> 7\u001b[1;33m     task = StoppingTask(D=dim, nGEN=iter, nFES=fes,  optType=OptimizationType.MINIMIZATION,\n\u001b[0m\u001b[0;32m      8\u001b[0m                         benchmark=noisy_rosenbrock())\n\u001b[0;32m      9\u001b[0m \u001b[1;33m\u001b[0m\u001b[0m\n",
      "\u001b[1;31mNameError\u001b[0m: name 'StoppingTask' is not defined"
     ]
    }
   ],
   "source": [
    "    Time = list()\n",
    "    x_fss = list()\n",
    "    y_fss = list()\n",
    "    stats = np.zeros(nruns)\n",
    "    print(\"Fish School Search\")\n",
    "    for i in range(nruns):\n",
    "        task = StoppingTask(D=dim, nGEN=iter, nFES=fes,  optType=OptimizationType.MINIMIZATION,\n",
    "                            benchmark=noisy_rosenbrock())\n",
    "\n",
    "        algo = FishSchoolSearch(NP=30, SI_init=0.1, SI_final=2, SV_init=0.1,\n",
    "                                SV_final=2, min_w=0.1, w_scale=0.7)\n",
    "\n",
    "        timer = time.perf_counter()\n",
    "        best = algo.run(task)\n",
    "        Time.append(time.perf_counter() - timer)\n",
    "\n",
    "        stats[i] = best[1]\n",
    "        x_fss.append(best[0][0])\n",
    "        y_fss.append(best[0][1])\n",
    "    \n",
    "    task.plot()\n",
    "    stat = BasicStatistics(stats)\n",
    "    print(stat.generate_standard_report())\n",
    "    print(\"Execution time \", np.mean(Time))"
   ]
  },
  {
   "cell_type": "code",
   "execution_count": 22,
   "metadata": {},
   "outputs": [
    {
     "name": "stdout",
     "output_type": "stream",
     "text": [
      "\n",
      "Stochastic Gradient Descent\n",
      "Min: 0.5419755341790733, Max: 88.4764783950668, Mean: 21.361945566659355, Median: 15.47386683446166, Std. 24.13885029926388\n",
      "Execution time  0.3438752478999959\n"
     ]
    }
   ],
   "source": [
    "    Time = list()\n",
    "    x_sgd = list()\n",
    "    y_sgd = list()\n",
    "    stats = np.zeros(nruns)\n",
    "    print(\"\\nStochastic Gradient Descent\")\n",
    "    for i in range(nruns):\n",
    "        x0 = np.random.uniform(size=dim)\n",
    "        timer = time.perf_counter()\n",
    "        res_sgd = minimize(noisy_rosenbrock.function, x0, method=sgd, jac=None)\n",
    "        Time.append(time.perf_counter() - timer)\n",
    "\n",
    "        stats[i] = res_sgd.fun\n",
    "        x_sgd.append(res_sgd.x[0])\n",
    "        y_sgd.append(res_sgd.x[1])\n",
    "\n",
    "    sgd_ev = res_sgd.nfev\n",
    "    sgd_x = res_sgd.xlist\n",
    "    plt.title(\"SGD\")  # заголовок\n",
    "    plt.plot(sgd_ev, sgd_x)\n",
    "    plt.show()\n",
    "    \n",
    "    stat = BasicStatistics(stats)\n",
    "    print(stat.generate_standard_report())\n",
    "    print(\"Execution time \", np.mean(Time))"
   ]
  },
  {
   "cell_type": "code",
   "execution_count": 23,
   "metadata": {},
   "outputs": [
    {
     "name": "stdout",
     "output_type": "stream",
     "text": [
      "\n",
      "ParticleSwarmAlgorithm\n",
      "Min: -3.8210815274578636, Max: 1.116867490207369, Mean: -0.12073391064065314, Median: 0.35911307523110736, Std. 1.4965744268945935\n",
      "Execution time  0.2586231876333386\n"
     ]
    }
   ],
   "source": [
    "    Time = list()\n",
    "    x_spo = list()\n",
    "    y_spo = list()\n",
    "    stats = np.zeros(nruns)\n",
    "    print(\"\\nParticleSwarmAlgorithm\")\n",
    "    for i in range(nruns):\n",
    "        task = StoppingTask(D=dim, nGEN=iter, nFES=fes, optType=OptimizationType.MINIMIZATION,\n",
    "                            benchmark=noisy_rosenbrock())\n",
    "\n",
    "        algo = ParticleSwarmAlgorithm(NP=30, C1=1, C2=1, w=0.5, vMin=-1, vMax=0.5)\n",
    "\n",
    "        timer = time.perf_counter()\n",
    "        best = algo.run(task)\n",
    "        Time.append(time.perf_counter() - timer)\n",
    "\n",
    "        stats[i] = best[1]\n",
    "        x_spo.append(best[0][0])\n",
    "        y_spo.append(best[0][1])\n",
    "\n",
    "    task.plot()\n",
    "    stat = BasicStatistics(stats)\n",
    "    print(stat.generate_standard_report())\n",
    "    print(\"Execution time \", np.mean(Time))"
   ]
  },
  {
   "cell_type": "markdown",
   "metadata": {},
   "source": [
    "На полученных графиках видно, что SGD менее подвержен зашумлению и находится в области истинного минимума, в то время как роевые алгоритмы застревают в локальных"
   ]
  },
  {
   "cell_type": "code",
   "execution_count": 24,
   "metadata": {},
   "outputs": [
    {
     "data": {
      "image/png": "[encoded data removed]",
      "text/plain": [
       "<Figure size 432x288 with 2 Axes>"
      ]
     },
     "metadata": {
      "needs_background": "light"
     },
     "output_type": "display_data"
    }
   ],
   "source": [
    "    x = np.linspace(min(x_spo + x_fss + x_sgd) - 0.3, max(x_spo + x_fss + x_sgd) + 0.3)\n",
    "    y = np.linspace(min(y_spo + y_fss + y_sgd) - 0.3, max(y_spo + y_fss + y_sgd) + 0.3)\n",
    "    x, y = np.meshgrid(x, y)\n",
    "    plt.contourf(x, y, noisy_rosenbrock.function(benc)(dim, (x, y)))\n",
    "\n",
    "    plt.scatter(x_spo, y_spo, label=\"PSO\", c='yellow')\n",
    "    plt.scatter(x_fss, y_fss, label=\"FSS\", c='m')\n",
    "    plt.scatter(x_sgd, y_sgd, label=\"SGD\", c='coral')\n",
    "\n",
    "    plt.legend()\n",
    "    plt.colorbar()\n",
    "    plt.show()"
   ]
  }
 ],
 "metadata": {
  "kernelspec": {
   "display_name": "Python 3",
   "language": "python",
   "name": "python3"
  },
  "language_info": {
   "codemirror_mode": {
    "name": "ipython",
    "version": 3
   },
   "file_extension": ".py",
   "mimetype": "text/x-python",
   "name": "python",
   "nbconvert_exporter": "python",
   "pygments_lexer": "ipython3",
   "version": "3.8.3"
  }
 },
 "nbformat": 4,
 "nbformat_minor": 4
}
