{
 "cells": [
  {
   "cell_type": "code",
   "execution_count": 1,
   "metadata": {},
   "outputs": [],
   "source": [
    "import numpy as np\n",
    "import matplotlib.pyplot as plt\n",
    "import time\n",
    "import pandas as pd\n",
    "\n",
    "from NiaPy import Runner\n",
    "from NiaPy.algorithms import BasicStatistics\n",
    "from NiaPy.algorithms.basic import FishSchoolSearch\n",
    "from NiaPy.algorithms.basic import FireflyAlgorithm\n",
    "from NiaPy.algorithms.basic import ParticleSwarmAlgorithm\n",
    "from NiaPy.task import StoppingTask, OptimizationType\n",
    "from NiaPy.benchmarks import Rastrigin\n",
    "from NiaPy.benchmarks import Rosenbrock\n",
    "from NiaPy.benchmarks import Ackley"
   ]
  },
  {
   "cell_type": "code",
   "execution_count": 2,
   "metadata": {},
   "outputs": [],
   "source": [
    "def optimization(benc, nruns, dim, algo):\n",
    "    Time = list()\n",
    "\n",
    "    stats = np.zeros(nruns)\n",
    "    print(\"\\nstarting \", algo, benc)\n",
    "    for i in range(nruns):\n",
    "        task = StoppingTask(D=dim, nGEN=100, nFES=1000, optType=OptimizationType.MINIMIZATION, benchmark=benc)\n",
    "\n",
    "        timer = time.perf_counter()\n",
    "        best = algo.run(task)\n",
    "        Time.append(time.perf_counter() - timer)\n",
    "\n",
    "        stats[i] = best[1]\n",
    "        evals, x_f = task.return_conv()\n",
    "\n",
    "        # print(\"FSS\", best[-1])\n",
    "    #         print(\"Number of function evaluations \", evals)  # print function evaluations\n",
    "    # print(x_f)  # print values\n",
    "\n",
    "    stat = BasicStatistics(stats)\n",
    "    print(stat.generate_standard_report())  # generate report\n",
    "    print(algo.getParameters())\n",
    "    print(\"Execution time \", np.mean(Time))\n",
    "    return best\n",
    "    "
   ]
  },
  {
   "cell_type": "markdown",
   "metadata": {},
   "source": [
    "Оптимизация функции Розенброка"
   ]
  },
  {
   "cell_type": "code",
   "execution_count": 3,
   "metadata": {
    "scrolled": true
   },
   "outputs": [
    {
     "name": "stdout",
     "output_type": "stream",
     "text": [
      "\n",
      "starting  <NiaPy.algorithms.basic.fss.FishSchoolSearch object at 0x15100291e400> <NiaPy.benchmarks.rosenbrock.Rosenbrock object at 0x15100291e470>\n",
      "Min: 0.013744661310264913, Max: 3.079584969747989, Mean: 0.8300714789148875, Median: 0.6956440660706114, Std. 0.9629579992887052\n",
      "{'NP': 40, 'InitPopFunc': <function defaultNumPyInit at 0x1510149cfd90>, 'itype': None, 'SI_init': 0.3, 'SI_final': 5, 'SV_init': 0.3, 'SV_final': 5, 'min_w': 0.2, 'w_scale': 0.8}\n",
      "Execution time  0.08609055870037992\n",
      "\n",
      "starting  <NiaPy.algorithms.basic.fa.FireflyAlgorithm object at 0x151002908898> <NiaPy.benchmarks.rosenbrock.Rosenbrock object at 0x15100291e470>\n",
      "Min: 0.3176063062275348, Max: 49.51216330980429, Mean: 14.274273680749777, Median: 7.730529804930473, Std. 17.25902484098906\n",
      "{'NP': 40, 'InitPopFunc': <function defaultNumPyInit at 0x1510149cfd90>, 'itype': None}\n",
      "Execution time  2.0548979014994986\n",
      "\n",
      "starting  <NiaPy.algorithms.basic.pso.ParticleSwarmAlgorithm object at 0x1510395767f0> <NiaPy.benchmarks.rosenbrock.Rosenbrock object at 0x15100291e470>\n",
      "Min: 0.640774114978174, Max: 116.93337874945043, Mean: 21.691773601009398, Median: 4.873082689351136, Std. 37.32457279248284\n",
      "{'NP': 40, 'InitPopFunc': <function defaultNumPyInit at 0x1510149cfd90>, 'itype': None, 'C1': 2.0, 'C2': 2.0, 'w': 0.7, 'vMin': -1.5, 'vMax': 1.5}\n",
      "Execution time  0.08718033379955159\n"
     ]
    }
   ],
   "source": [
    "nruns = 10\n",
    "benc = Rosenbrock()\n",
    "algo = FishSchoolSearch(NP=40, SI_init=0.3, SI_final=5, SV_init=0.3, SV_final=5, min_w=0.2, w_scale=0.8)\n",
    "X_fss = optimization(benc, nruns, 2, algo)\n",
    "\n",
    "algo = FireflyAlgorithm(NP=40)\n",
    "# alpha=1, betamin=1, gamma=2 - параметры светлячков, хз что значит\n",
    "X_ff = optimization(benc, nruns, 2, algo)\n",
    "\n",
    "algo = ParticleSwarmAlgorithm(NP=40)\n",
    "# C1=2.0, C2=2.0, w=0.7, vMin=-1.5, vMax=1.5, c - когнитивный и социальный компонент\n",
    "# w - инерционный вес, v - минимальная и максимальная скорость\n",
    "X_pso = optimization(benc, nruns, 2, algo)"
   ]
  },
  {
   "cell_type": "markdown",
   "metadata": {},
   "source": [
    "Оптимизация функции Растригина"
   ]
  },
  {
   "cell_type": "code",
   "execution_count": 4,
   "metadata": {},
   "outputs": [
    {
     "name": "stdout",
     "output_type": "stream",
     "text": [
      "\n",
      "starting  <NiaPy.algorithms.basic.fss.FishSchoolSearch object at 0x15100291e780> <NiaPy.benchmarks.rastrigin.Rastrigin object at 0x15100291e6a0>\n",
      "Min: 0.01760060592682322, Max: 1.0097471706116998, Mean: 0.3906274456687022, Median: 0.2899583534361696, Std. 0.3642537322855953\n",
      "{'NP': 40, 'InitPopFunc': <function defaultNumPyInit at 0x1510149cfd90>, 'itype': None, 'SI_init': 0.3, 'SI_final': 5, 'SV_init': 0.3, 'SV_final': 5, 'min_w': 0.2, 'w_scale': 0.8}\n",
      "Execution time  0.08528834870012361\n",
      "\n",
      "starting  <NiaPy.algorithms.basic.fa.FireflyAlgorithm object at 0x1510395767f0> <NiaPy.benchmarks.rastrigin.Rastrigin object at 0x15100291e6a0>\n",
      "Min: 1.0008043786233003, Max: 4.445905771296394, Mean: 2.0882412866610838, Median: 1.6718683035862458, Std. 1.244512827510686\n",
      "{'NP': 40, 'InitPopFunc': <function defaultNumPyInit at 0x1510149cfd90>, 'itype': None}\n",
      "Execution time  2.056445912199706\n",
      "\n",
      "starting  <NiaPy.algorithms.basic.pso.ParticleSwarmAlgorithm object at 0x151007707cc0> <NiaPy.benchmarks.rastrigin.Rastrigin object at 0x15100291e6a0>\n",
      "Min: 9.111367567982143e-06, Max: 1.0642462204550966, Mean: 0.3334534675687436, Median: 0.041410164224625845, Std. 0.43920527405735615\n",
      "{'NP': 40, 'InitPopFunc': <function defaultNumPyInit at 0x1510149cfd90>, 'itype': None, 'C1': 2.0, 'C2': 2.0, 'w': 0.7, 'vMin': -1.5, 'vMax': 1.5}\n",
      "Execution time  0.09796127480003633\n"
     ]
    }
   ],
   "source": [
    "nruns = 10\n",
    "benc = Rastrigin()\n",
    "algo = FishSchoolSearch(NP=40, SI_init=0.3, SI_final=5, SV_init=0.3, SV_final=5, min_w=0.2, w_scale=0.8)\n",
    "X_fss = optimization(benc, nruns, 2, algo)\n",
    "\n",
    "algo = FireflyAlgorithm(NP=40)\n",
    "# alpha=1, betamin=1, gamma=2 - параметры светлячков, хз что значит\n",
    "X_ff = optimization(benc, nruns, 2, algo)\n",
    "\n",
    "algo = ParticleSwarmAlgorithm(NP=40)\n",
    "# C1=2.0, C2=2.0, w=0.7, vMin=-1.5, vMax=1.5, c - когнитивный и социальный компонент\n",
    "# w - инерционный вес, v - минимальная и максимальная скорость\n",
    "X_pso = optimization(benc, nruns, 2, algo)"
   ]
  },
  {
   "cell_type": "markdown",
   "metadata": {},
   "source": [
    "Оптимизация функции Экли"
   ]
  },
  {
   "cell_type": "code",
   "execution_count": 6,
   "metadata": {},
   "outputs": [
    {
     "name": "stdout",
     "output_type": "stream",
     "text": [
      "\n",
      "starting  <NiaPy.algorithms.basic.fss.FishSchoolSearch object at 0x15100291e4a8> <NiaPy.benchmarks.ackley.Ackley object at 0x15100291e710>\n",
      "Min: 0.10132328551332082, Max: 6.098368338591612, Mean: 2.3310303876780223, Median: 2.6891075446099255, Std. 1.8749322222779463\n",
      "{'NP': 40, 'InitPopFunc': <function defaultNumPyInit at 0x1510149cfd90>, 'itype': None, 'SI_init': 0.3, 'SI_final': 5, 'SV_init': 0.3, 'SV_final': 5, 'min_w': 0.2, 'w_scale': 0.8}\n",
      "Execution time  0.12227796770021086\n",
      "\n",
      "starting  <NiaPy.algorithms.basic.fa.FireflyAlgorithm object at 0x151007707cc0> <NiaPy.benchmarks.ackley.Ackley object at 0x15100291e710>\n",
      "Min: 0.3921741422990128, Max: 7.578421029886087, Mean: 4.23524730813948, Median: 4.416806996923931, Std. 2.4159835481902445\n",
      "{'NP': 40, 'InitPopFunc': <function defaultNumPyInit at 0x1510149cfd90>, 'itype': None}\n",
      "Execution time  2.0716376499003673\n",
      "\n",
      "starting  <NiaPy.algorithms.basic.pso.ParticleSwarmAlgorithm object at 0x15103d8c2c18> <NiaPy.benchmarks.ackley.Ackley object at 0x15100291e710>\n",
      "Min: 1.86513747740937, Max: 14.215395083185273, Mean: 8.075992532074837, Median: 7.776248012369217, Std. 3.832878272603188\n",
      "{'NP': 40, 'InitPopFunc': <function defaultNumPyInit at 0x1510149cfd90>, 'itype': None, 'C1': 2.0, 'C2': 2.0, 'w': 0.7, 'vMin': -1.5, 'vMax': 1.5}\n",
      "Execution time  0.11942949819931528\n"
     ]
    }
   ],
   "source": [
    "nruns = 10\n",
    "benc = Ackley()\n",
    "algo = FishSchoolSearch(NP=40, SI_init=0.3, SI_final=5, SV_init=0.3, SV_final=5, min_w=0.2, w_scale=0.8)\n",
    "X_fss = optimization(benc, nruns, 2, algo)\n",
    "\n",
    "algo = FireflyAlgorithm(NP=40)\n",
    "# alpha=1, betamin=1, gamma=2 - параметры светлячков, хз что значит\n",
    "X_ff = optimization(benc, nruns, 2, algo)\n",
    "\n",
    "algo = ParticleSwarmAlgorithm(NP=40)\n",
    "# C1=2.0, C2=2.0, w=0.7, vMin=-1.5, vMax=1.5, c - когнитивный и социальный компонент\n",
    "# w - инерционный вес, v - минимальная и максимальная скорость\n",
    "X_pso = optimization(benc, nruns, 2, algo)"
   ]
  }
 ],
 "metadata": {
  "kernelspec": {
   "display_name": "Python 3",
   "language": "python",
   "name": "python3"
  },
  "language_info": {
   "codemirror_mode": {
    "name": "ipython",
    "version": 3
   },
   "file_extension": ".py",
   "mimetype": "text/x-python",
   "name": "python",
   "nbconvert_exporter": "python",
   "pygments_lexer": "ipython3",
   "version": "3.7.3"
  }
 },
 "nbformat": 4,
 "nbformat_minor": 4
}
