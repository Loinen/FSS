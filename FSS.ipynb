{
 "cells": [
  {
   "cell_type": "code",
   "execution_count": 23,
   "metadata": {},
   "outputs": [],
   "source": [
    "import numpy as np\n",
    "import matplotlib.pyplot as plt\n",
    "import time\n",
    "import pandas as pd\n",
    "\n",
    "from NiaPy import Runner\n",
    "from NiaPy.algorithms import BasicStatistics\n",
    "from NiaPy.algorithms.basic import FishSchoolSearch\n",
    "from NiaPy.algorithms.basic import FireflyAlgorithm\n",
    "from NiaPy.algorithms.basic import ParticleSwarmAlgorithm\n",
    "from NiaPy.task import StoppingTask, OptimizationType\n",
    "from NiaPy.benchmarks import Rastrigin\n",
    "from NiaPy.benchmarks import Rosenbrock\n",
    "from NiaPy.benchmarks import Ackley"
   ]
  },
  {
   "cell_type": "code",
   "execution_count": 24,
   "metadata": {},
   "outputs": [],
   "source": [
    "def optimization(benc, nruns, dim, algo):\n",
    "    Time = list()\n",
    "\n",
    "    stats = np.zeros(nruns)\n",
    "    print(\"\\nstarting \", algo, benc)\n",
    "    for i in range(nruns):\n",
    "        task = StoppingTask(D=dim, nGEN=100, nFES=1000, optType=OptimizationType.MINIMIZATION, benchmark=benc)\n",
    "\n",
    "        timer = time.perf_counter()\n",
    "        best = algo.run(task)\n",
    "        Time.append(time.perf_counter() - timer)\n",
    "\n",
    "        stats[i] = best[1]\n",
    "        evals, x_f = task.return_conv()\n",
    "\n",
    "        # print(\"FSS\", best[-1])\n",
    "    #         print(\"Number of function evaluations \", evals)  # print function evaluations\n",
    "    # print(x_f)  # print values\n",
    "\n",
    "    stat = BasicStatistics(stats)\n",
    "    print(stat.generate_standard_report())  # generate report\n",
    "    print(algo.getParameters())\n",
    "    print(\"Execution time \", np.mean(Time))\n",
    "    return best\n",
    "    "
   ]
  },
  {
   "cell_type": "markdown",
   "metadata": {},
   "source": [
    "Оптимизация функции Розенброка"
   ]
  },
  {
   "cell_type": "code",
   "execution_count": 26,
   "metadata": {
    "scrolled": true
   },
   "outputs": [
    {
     "name": "stdout",
     "output_type": "stream",
     "text": [
      "\n",
      "starting  <NiaPy.algorithms.basic.fss.FishSchoolSearch object at 0x150737b54240> <NiaPy.benchmarks.rosenbrock.Rosenbrock object at 0x150737b54128>\n",
      "Min: 0.003992303594408537, Max: 2.980598908702401, Mean: 0.772543065025747, Median: 0.4797709383753197, Std. 0.9516104332652284\n",
      "{'NP': 40, 'InitPopFunc': <function defaultNumPyInit at 0x15075086f048>, 'itype': None, 'SI_init': 0.3, 'SI_final': 5, 'SV_init': 0.3, 'SV_final': 5, 'min_w': 0.2, 'w_scale': 0.8}\n",
      "Execution time  0.0840838205000182\n",
      "\n",
      "starting  <NiaPy.algorithms.basic.fa.FireflyAlgorithm object at 0x15073c6f9b70> <NiaPy.benchmarks.rosenbrock.Rosenbrock object at 0x150737b54128>\n",
      "Min: 0.0005640489034394529, Max: 32.63612672121966, Mean: 10.233325799891578, Median: 7.412467386847304, Std. 9.639476839330365\n",
      "{'NP': 40, 'InitPopFunc': <function defaultNumPyInit at 0x15075086f048>, 'itype': None}\n",
      "Execution time  2.071180453100169\n",
      "\n",
      "starting  <NiaPy.algorithms.basic.pso.ParticleSwarmAlgorithm object at 0x150737d55908> <NiaPy.benchmarks.rosenbrock.Rosenbrock object at 0x150737b54128>\n",
      "Min: 0.39648447264618825, Max: 43.78315373625426, Mean: 18.411344649181295, Median: 14.236140466996222, Std. 16.67165420839897\n",
      "{'NP': 40, 'InitPopFunc': <function defaultNumPyInit at 0x15075086f048>, 'itype': None, 'C1': 2.0, 'C2': 2.0, 'w': 0.7, 'vMin': -1.5, 'vMax': 1.5}\n",
      "Execution time  0.0648510023002018\n"
     ]
    }
   ],
   "source": [
    "nruns = 10\n",
    "benc = Rosenbrock()\n",
    "algo = FishSchoolSearch(NP=40, SI_init=0.3, SI_final=5, SV_init=0.3, SV_final=5, min_w=0.2, w_scale=0.8)\n",
    "X_fss = optimization(benc, nruns, 2, algo)\n",
    "\n",
    "algo = FireflyAlgorithm(NP=40)\n",
    "# alpha=1, betamin=1, gamma=2 - параметры светлячков, хз что значит\n",
    "X_ff = optimization(benc, nruns, 2, algo)\n",
    "\n",
    "algo = ParticleSwarmAlgorithm(NP=40)\n",
    "# C1=2.0, C2=2.0, w=0.7, vMin=-1.5, vMax=1.5, c - когнитивный и социальный компонент\n",
    "# w - инерционный вес, v - минимальная и максимальная скорость\n",
    "X_pso = optimization(benc, nruns, 2, algo)"
   ]
  }
 ],
 "metadata": {
  "kernelspec": {
   "display_name": "Python 3",
   "language": "python",
   "name": "python3"
  }
 },
 "nbformat": 4,
 "nbformat_minor": 4
}
